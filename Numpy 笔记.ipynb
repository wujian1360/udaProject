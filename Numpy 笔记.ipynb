{
 "cells": [
  {
   "cell_type": "markdown",
   "metadata": {},
   "source": [
    "# NumPy \n",
    "- NumPy 是 Numerical Python 的简称\n",
    "- Python 中的科学计算基本软件包\n",
    "- NumPy 为 Python 提供了大量数学库"
   ]
  },
  {
   "cell_type": "markdown",
   "metadata": {},
   "source": [
    "- import numpy as np\n",
    "- x.shap   \n",
    "- x.dtype \n",
    "- x.size     \n",
    "\n",
    "- np.save('myarray_y',y)\n",
    "- np.load('myarray_y.npy')\n",
    "\n",
    "- np.zeros((3,4))\n",
    "- np.full(shape, constant value)\n",
    "- np.eye(n) 会创建一个对应于单位矩阵的方形 N x N ndarray\n",
    "- np.diag([10,20,30,50]) 对角矩阵是仅在主对角线上有值的方形矩阵。\n",
    "\n",
    "- np.arange(start, stop, step) \n",
    "- np.linspace(start, stop, N) \n",
    "- np.reshape(ndarray, new_shape)\n",
    "\n",
    "- np.random.random(shape) \n",
    "- np.random.randint(start, stop, size = shape) \n",
    "\n",
    "- np.random.normal(mean, standard deviation, size=shape)\n",
    "- X[2, 2] 使用下标访问元素\n",
    "- np.delete(ndarray, elements, axis)\n",
    "\n",
    "- np.append(ndarray, elements, axis)\n",
    "- np.insert(ndarray, index, elements, axis)\n",
    "\n",
    "- nparray[start:end]\n",
    "- np.copy()\n",
    "\n",
    "- np.diag(ndarray, k=N)\n",
    "- np.unique() 去重，返回一个列表\n",
    "\n",
    "- X[X > 10] 布尔\n",
    "\n",
    "- np.intersect1d(x,y)交集\n",
    "- np.setdiff1d(x,y)差集\n",
    "- np.union1d(x,y)并集\n",
    "\n",
    "- np.unique(x) 去重\n",
    "- np.sort() 排序\n",
    "\n",
    "\n",
    "- np.add(x,y)\n",
    "- np.subtract(x,y)\n",
    "- np.multiply(x,y)\n",
    "- np.divide(x,y)\n",
    "\n",
    "\n",
    "- sqrt(array)\n",
    "- np.exp(x)\n",
    "- np.power(x,2)\n",
    "\n",
    "- X.mean()\n",
    "- X.sum()\n",
    "- X.std()\n",
    "- X.median()\n",
    "\n",
    "- X.max(axis=0)\n",
    "- X.min(axis=1)"
   ]
  },
  {
   "cell_type": "markdown",
   "metadata": {},
   "source": [
    "### 导入\n",
    "    import numpy as np"
   ]
  },
  {
   "cell_type": "code",
   "execution_count": 1,
   "metadata": {},
   "outputs": [],
   "source": [
    "import numpy as np"
   ]
  },
  {
   "cell_type": "markdown",
   "metadata": {},
   "source": [
    "### np.array数组 属性 类型\n",
    "- x.shap   \n",
    "- x.dtype   \n",
    "    - .dtype 属性告诉我们 y 中的元素作为具有 8 个字符的 Unicode 字符串存储在内存中。\n",
    "    - 如果同时提供整数和字符串的列表，NumPy会将所有元素解析为字符串。\n",
    "- y.size     \n",
    "- type(x)\n"
   ]
  },
  {
   "cell_type": "code",
   "execution_count": 21,
   "metadata": {},
   "outputs": [
    {
     "name": "stdout",
     "output_type": "stream",
     "text": [
      "[1 2 3 4 5] ['nihao123' 'hello']\n"
     ]
    }
   ],
   "source": [
    "x = np.array([1,2,3,4,5])\n",
    "y = np.array(['nihao123','hello'])\n",
    "print(x,y)"
   ]
  },
  {
   "cell_type": "code",
   "execution_count": 22,
   "metadata": {},
   "outputs": [
    {
     "name": "stdout",
     "output_type": "stream",
     "text": [
      "(5,)\n",
      "<class 'numpy.ndarray'>\n",
      "int32\n",
      "<U8\n"
     ]
    }
   ],
   "source": [
    "print(x.shape)# (5,)\n",
    "print(type(x))# <class 'numpy.ndarray'>\n",
    "print(x.dtype)# int32\n",
    "print(y.dtype)# <U8  具有 8 个字符的 Unicode 字符串"
   ]
  },
  {
   "cell_type": "code",
   "execution_count": 23,
   "metadata": {},
   "outputs": [
    {
     "name": "stdout",
     "output_type": "stream",
     "text": [
      "['1' '2' 'World']\n"
     ]
    }
   ],
   "source": [
    "x = np.array([1, 2, 'World'])\n",
    "print(x) # ['1' '2' 'World']"
   ]
  },
  {
   "cell_type": "code",
   "execution_count": 29,
   "metadata": {},
   "outputs": [
    {
     "name": "stdout",
     "output_type": "stream",
     "text": [
      "[[ 1  2  3]\n",
      " [ 4  5  6]\n",
      " [ 7  8  9]\n",
      " [10 11 12]]\n"
     ]
    }
   ],
   "source": [
    "y = np.array([[1,2,3],[4,5,6],[7,8,9], [10,11,12]], dtype=np.int64)\n",
    "print(y)"
   ]
  },
  {
   "cell_type": "markdown",
   "metadata": {},
   "source": [
    "### np.save ,np.load 保存和加载npy文件\n",
    "- np.save('myarray_y',y)\n",
    "- np.load('myarray_y.npy')"
   ]
  },
  {
   "cell_type": "code",
   "execution_count": 32,
   "metadata": {},
   "outputs": [
    {
     "name": "stdout",
     "output_type": "stream",
     "text": [
      "[[ 1  2  3]\n",
      " [ 4  5  6]\n",
      " [ 7  8  9]\n",
      " [10 11 12]]\n"
     ]
    }
   ],
   "source": [
    "y.size\n",
    "np.save('myarray_y',y)\n",
    "z = np.load('myarray_y.npy')\n",
    "print(z)"
   ]
  },
  {
   "cell_type": "markdown",
   "metadata": {},
   "source": [
    "### np.zeros((3,4)) 快速创建np.array 数组\n",
    "- 默认地创建一个 dtype 为 float64 的数组。你可以使用关键字 dtype 更改数据类型\n",
    "    - X = np.zeros((3,4))\n",
    "    \n",
    "### np.full(shape, constant value) 创建指定shape、指定值的数组\n",
    "- np.full(shape, constant value) 函数有两个参数。\n",
    "    - 第一个参数是你要创建的 ndarray 的形状，\n",
    "    - 第二个参数是你要向数组中填充的常数值\n",
    "    - X = np.full((2,3), 5) "
   ]
  },
  {
   "cell_type": "code",
   "execution_count": 38,
   "metadata": {},
   "outputs": [
    {
     "data": {
      "text/plain": [
       "array([[5, 5, 5],\n",
       "       [5, 5, 5]], dtype=int64)"
      ]
     },
     "execution_count": 38,
     "metadata": {},
     "output_type": "execute_result"
    }
   ],
   "source": [
    "X = np.full((2,3), 5, dtype=np.int64) \n",
    "X"
   ]
  },
  {
   "cell_type": "markdown",
   "metadata": {},
   "source": [
    "### np.eye(n) 会创建一个对应于单位矩阵的方形 N x N ndarray"
   ]
  },
  {
   "cell_type": "code",
   "execution_count": 40,
   "metadata": {},
   "outputs": [
    {
     "data": {
      "text/plain": [
       "array([[1., 0., 0., 0., 0.],\n",
       "       [0., 1., 0., 0., 0.],\n",
       "       [0., 0., 1., 0., 0.],\n",
       "       [0., 0., 0., 1., 0.],\n",
       "       [0., 0., 0., 0., 1.]])"
      ]
     },
     "execution_count": 40,
     "metadata": {},
     "output_type": "execute_result"
    }
   ],
   "source": [
    "X = np.eye(5)\n",
    "X"
   ]
  },
  {
   "cell_type": "markdown",
   "metadata": {},
   "source": [
    "### np.diag([10,20,30,50]) 对角矩阵是仅在主对角线上有值的方形矩阵。"
   ]
  },
  {
   "cell_type": "code",
   "execution_count": 41,
   "metadata": {},
   "outputs": [
    {
     "data": {
      "text/plain": [
       "array([[10,  0,  0,  0],\n",
       "       [ 0, 20,  0,  0],\n",
       "       [ 0,  0, 30,  0],\n",
       "       [ 0,  0,  0, 50]])"
      ]
     },
     "execution_count": 41,
     "metadata": {},
     "output_type": "execute_result"
    }
   ],
   "source": [
    "X = np.diag([10,20,30,50])\n",
    "X"
   ]
  },
  {
   "cell_type": "markdown",
   "metadata": {},
   "source": [
    "### np.arange()\n",
    "#### np.arange(start, stop, step) \n",
    "- 均匀分布的数字将包括 start 数字，但是不包括 stop 数字\n",
    "- 虽然 np.arange() 函数允许间隔为非整数，例如 0.3，但是由于浮点数精度有限，输出通常不一致。因此，如果需要非整数间隔，通常建议使用函数 np.linspace()\n",
    "### np.linspace(start, stop, N) \n",
    "-  函数返回 N 个在闭区间 [start, stop] 内均匀分布的数字。\n",
    "### np.reshape(ndarray, new_shape)"
   ]
  },
  {
   "cell_type": "code",
   "execution_count": 42,
   "metadata": {},
   "outputs": [
    {
     "data": {
      "text/plain": [
       "array([ 0. ,  2.5,  5. ,  7.5, 10. , 12.5, 15. , 17.5, 20. , 22.5])"
      ]
     },
     "execution_count": 42,
     "metadata": {},
     "output_type": "execute_result"
    }
   ],
   "source": [
    "x = np.linspace(0,25,10, endpoint = False)\n",
    "x"
   ]
  },
  {
   "cell_type": "code",
   "execution_count": 43,
   "metadata": {},
   "outputs": [
    {
     "data": {
      "text/plain": [
       "array([ 1,  4,  7, 10, 13])"
      ]
     },
     "execution_count": 43,
     "metadata": {},
     "output_type": "execute_result"
    }
   ],
   "source": [
    "x = np.arange(1,14,3)\n",
    "x"
   ]
  },
  {
   "cell_type": "code",
   "execution_count": 47,
   "metadata": {},
   "outputs": [
    {
     "data": {
      "text/plain": [
       "array([[ 0,  1,  2,  3,  4],\n",
       "       [ 5,  6,  7,  8,  9],\n",
       "       [10, 11, 12, 13, 14],\n",
       "       [15, 16, 17, 18, 19]])"
      ]
     },
     "execution_count": 47,
     "metadata": {},
     "output_type": "execute_result"
    }
   ],
   "source": [
    "# Y = np.arange(20).reshape(4, 5) 写成一行\n",
    "\n",
    "x = np.arange(20)\n",
    "x = np.reshape(x, (4,5))\n",
    "x"
   ]
  },
  {
   "cell_type": "code",
   "execution_count": 48,
   "metadata": {},
   "outputs": [
    {
     "data": {
      "text/plain": [
       "array([[ 0.,  5.],\n",
       "       [10., 15.],\n",
       "       [20., 25.],\n",
       "       [30., 35.],\n",
       "       [40., 45.]])"
      ]
     },
     "execution_count": 48,
     "metadata": {},
     "output_type": "execute_result"
    }
   ],
   "source": [
    "X = np.linspace(0,50,10, endpoint=False).reshape(5,2)\n",
    "X"
   ]
  },
  {
   "cell_type": "markdown",
   "metadata": {},
   "source": [
    "### np.random.random(shape) \n",
    "- 创建具有给定形状的 ndarray，其中包含位于半开区间 [0.0, 1.0) 内的随机浮点数。\n",
    "### np.random.randint(start, stop, size = shape) \n",
    "- 创建一个具有给定形状的 ndarray，其中包含在半开区间 [start, stop) 内的随机整数"
   ]
  },
  {
   "cell_type": "code",
   "execution_count": 49,
   "metadata": {},
   "outputs": [
    {
     "data": {
      "text/plain": [
       "array([[12,  4],\n",
       "       [ 6, 10],\n",
       "       [ 4,  8]])"
      ]
     },
     "execution_count": 49,
     "metadata": {},
     "output_type": "execute_result"
    }
   ],
   "source": [
    "X = np.random.randint(4,15,size=(3,2))\n",
    "X"
   ]
  },
  {
   "cell_type": "markdown",
   "metadata": {},
   "source": [
    "### np.random.normal(mean, standard deviation, size=shape)\n",
    "- 会创建一个具有给定形状的 ndarray，其中包含从正态高斯分布（具有给定均值和标准差）中抽样的随机数字。\n",
    "- 创建一个 1,000 x 1,000 ndarray，其中包含从正态分布（均值为 0，标准差为 0.1）中随机抽样的浮点数。"
   ]
  },
  {
   "cell_type": "code",
   "execution_count": 52,
   "metadata": {},
   "outputs": [
    {
     "name": "stdout",
     "output_type": "stream",
     "text": [
      "shape: (1000, 1000)\n",
      "X type: <class 'numpy.ndarray'>\n",
      "dtype: float64\n",
      "mean : -0.0001103612497113915\n",
      "maximum: 0.47577106071975406\n",
      "minimum: -0.4424793490060228\n",
      "X has 500142 negative numbers\n",
      "X has 499858 positive numbers\n"
     ]
    }
   ],
   "source": [
    "X = np.random.normal(0, 0.1, size=(1000,1000))\n",
    "print('shape:', X.shape)\n",
    "print('X type:', type(X))\n",
    "print('dtype:', X.dtype)\n",
    "print('mean :', X.mean())\n",
    "print('maximum:', X.max())\n",
    "print('minimum:', X.min())\n",
    "print('X has', (X < 0).sum(), 'negative numbers')\n",
    "print('X has', (X > 0).sum(), 'positive numbers')"
   ]
  },
  {
   "cell_type": "markdown",
   "metadata": {},
   "source": [
    "### X[2, 2] 使用下标访问元素"
   ]
  },
  {
   "cell_type": "code",
   "execution_count": 54,
   "metadata": {},
   "outputs": [
    {
     "data": {
      "text/plain": [
       "2"
      ]
     },
     "execution_count": 54,
     "metadata": {},
     "output_type": "execute_result"
    }
   ],
   "source": [
    "X = np.array([[1,2,3],[4,5,6],[7,8,9]])\n",
    "X[0,1]"
   ]
  },
  {
   "cell_type": "markdown",
   "metadata": {},
   "source": [
    "### np.delete(ndarray, elements, axis)\n",
    "- 删除元素\n",
    "- 整行整列的删除元素\n",
    "- axis = 0 表示选择行，axis = 1 表示选择列"
   ]
  },
  {
   "cell_type": "code",
   "execution_count": 62,
   "metadata": {},
   "outputs": [
    {
     "data": {
      "text/plain": [
       "array([2, 4])"
      ]
     },
     "execution_count": 62,
     "metadata": {},
     "output_type": "execute_result"
    }
   ],
   "source": [
    "x = np.array([1, 2, 3, 4, 5])\n",
    "x = np.delete(x, [0,2,4]) \n",
    "x"
   ]
  },
  {
   "cell_type": "code",
   "execution_count": 64,
   "metadata": {},
   "outputs": [
    {
     "data": {
      "text/plain": [
       "array([[4, 5, 6],\n",
       "       [7, 8, 9]])"
      ]
     },
     "execution_count": 64,
     "metadata": {},
     "output_type": "execute_result"
    }
   ],
   "source": [
    "Y = np.array([[1,2,3],[4,5,6],[7,8,9]])\n",
    "w = np.delete(Y, 0, axis=0)\n",
    "w"
   ]
  },
  {
   "cell_type": "markdown",
   "metadata": {},
   "source": [
    "### np.append(ndarray, elements, axis)\n",
    "- 添加"
   ]
  },
  {
   "cell_type": "code",
   "execution_count": 65,
   "metadata": {},
   "outputs": [
    {
     "data": {
      "text/plain": [
       "array([1, 2, 3, 4, 5, 6])"
      ]
     },
     "execution_count": 65,
     "metadata": {},
     "output_type": "execute_result"
    }
   ],
   "source": [
    "x = np.array([1, 2, 3, 4, 5])\n",
    "x = np.append(x, 6)\n",
    "x"
   ]
  },
  {
   "cell_type": "code",
   "execution_count": 71,
   "metadata": {},
   "outputs": [
    {
     "data": {
      "text/plain": [
       "array([[1, 2, 3, 7],\n",
       "       [4, 5, 6, 8],\n",
       "       [2, 2, 2, 9]])"
      ]
     },
     "execution_count": 71,
     "metadata": {},
     "output_type": "execute_result"
    }
   ],
   "source": [
    "Y = np.array([[1,2,3],[4,5,6],[2,2,2]])\n",
    "\n",
    "# 加行\n",
    "# v = np.append(Y, [[7,8,9]], axis=0)\n",
    "\n",
    "v = np.append(Y, [[7],[8],[9]], axis=1)\n",
    "v"
   ]
  },
  {
   "cell_type": "markdown",
   "metadata": {},
   "source": [
    "### np.insert(ndarray, index, elements, axis)\n",
    "- 插入"
   ]
  },
  {
   "cell_type": "code",
   "execution_count": 72,
   "metadata": {},
   "outputs": [
    {
     "data": {
      "text/plain": [
       "array([[1, 2, 3],\n",
       "       [4, 5, 6],\n",
       "       [7, 8, 9]])"
      ]
     },
     "execution_count": 72,
     "metadata": {},
     "output_type": "execute_result"
    }
   ],
   "source": [
    "Y = np.array([[1,2,3],[7,8,9]])\n",
    "w = np.insert(Y,1,[4,5,6],axis=0)\n",
    "w"
   ]
  },
  {
   "cell_type": "markdown",
   "metadata": {},
   "source": [
    "## 切片\n",
    "1. ndarray[start:end]\n",
    "2. ndarray[start:]\n",
    "3. ndarray[:end]"
   ]
  },
  {
   "cell_type": "code",
   "execution_count": 73,
   "metadata": {},
   "outputs": [
    {
     "data": {
      "text/plain": [
       "array([[ 0,  1,  2,  3,  4],\n",
       "       [ 5,  6,  7,  8,  9],\n",
       "       [10, 11, 12, 13, 14],\n",
       "       [15, 16, 17, 18, 19]])"
      ]
     },
     "execution_count": 73,
     "metadata": {},
     "output_type": "execute_result"
    }
   ],
   "source": [
    "X = np.arange(20).reshape(4, 5)\n",
    "X"
   ]
  },
  {
   "cell_type": "code",
   "execution_count": 74,
   "metadata": {},
   "outputs": [
    {
     "data": {
      "text/plain": [
       "array([[ 7,  8,  9],\n",
       "       [12, 13, 14],\n",
       "       [17, 18, 19]])"
      ]
     },
     "execution_count": 74,
     "metadata": {},
     "output_type": "execute_result"
    }
   ],
   "source": [
    "Z = X[1:4,2:5]\n",
    "Z"
   ]
  },
  {
   "cell_type": "code",
   "execution_count": 76,
   "metadata": {},
   "outputs": [
    {
     "data": {
      "text/plain": [
       "array([[ 7,  8,  9],\n",
       "       [12, 13, 14],\n",
       "       [17, 18, 19]])"
      ]
     },
     "execution_count": 76,
     "metadata": {},
     "output_type": "execute_result"
    }
   ],
   "source": [
    "W = X[1:,2:]\n",
    "W"
   ]
  },
  {
   "cell_type": "code",
   "execution_count": 78,
   "metadata": {},
   "outputs": [
    {
     "data": {
      "text/plain": [
       "array([[ 2,  3,  4],\n",
       "       [ 7,  8,  9],\n",
       "       [12, 13, 14]])"
      ]
     },
     "execution_count": 78,
     "metadata": {},
     "output_type": "execute_result"
    }
   ],
   "source": [
    "Y = X[:3,2:]\n",
    "Y"
   ]
  },
  {
   "cell_type": "code",
   "execution_count": 79,
   "metadata": {},
   "outputs": [
    {
     "data": {
      "text/plain": [
       "array([10, 11, 12, 13, 14])"
      ]
     },
     "execution_count": 79,
     "metadata": {},
     "output_type": "execute_result"
    }
   ],
   "source": [
    "v = X[2,:] # 整行\n",
    "v"
   ]
  },
  {
   "cell_type": "code",
   "execution_count": 80,
   "metadata": {},
   "outputs": [
    {
     "data": {
      "text/plain": [
       "array([ 2,  7, 12, 17])"
      ]
     },
     "execution_count": 80,
     "metadata": {},
     "output_type": "execute_result"
    }
   ],
   "source": [
    "q = X[:,2] # 整列\n",
    "q"
   ]
  },
  {
   "cell_type": "markdown",
   "metadata": {},
   "source": [
    "## np.copy()\n",
    "- 切片后的数组依然指向原来的数组，对其修改会改变原数组\n",
    "- 所以，将切片作为新数组，需要用到copy()函数"
   ]
  },
  {
   "cell_type": "code",
   "execution_count": 81,
   "metadata": {},
   "outputs": [
    {
     "data": {
      "text/plain": [
       "array([[  0,   1,   2,   3,   4],\n",
       "       [  5,   6,   7,   8,   9],\n",
       "       [ 10,  11,  12,  13,  14],\n",
       "       [ 15,  16,  17,  18, 555]])"
      ]
     },
     "execution_count": 81,
     "metadata": {},
     "output_type": "execute_result"
    }
   ],
   "source": [
    "X = np.arange(20).reshape(4, 5)\n",
    "Z = X[1:4,2:5]\n",
    "Z[2,2] = 555\n",
    "X"
   ]
  },
  {
   "cell_type": "code",
   "execution_count": 82,
   "metadata": {},
   "outputs": [
    {
     "data": {
      "text/plain": [
       "array([[  0,   1,   2,   3,   4],\n",
       "       [  5,   6,   7,   8,   9],\n",
       "       [ 10,  11,  12,  13,  14],\n",
       "       [ 15,  16,  17,  18, 555]])"
      ]
     },
     "execution_count": 82,
     "metadata": {},
     "output_type": "execute_result"
    }
   ],
   "source": [
    "W = X[1:4,2:5].copy()\n",
    "W[2,2] = 444\n",
    "X"
   ]
  },
  {
   "cell_type": "code",
   "execution_count": 83,
   "metadata": {},
   "outputs": [
    {
     "data": {
      "text/plain": [
       "array([[  7,   8,   9],\n",
       "       [ 12,  13,  14],\n",
       "       [ 17,  18, 444]])"
      ]
     },
     "execution_count": 83,
     "metadata": {},
     "output_type": "execute_result"
    }
   ],
   "source": [
    "W"
   ]
  },
  {
   "cell_type": "markdown",
   "metadata": {},
   "source": [
    "### np.diag(ndarray, k=N)\n",
    "- 函数会以 N 定义的对角线提取元素。\n",
    "- 默认情况下，k=0，表示主对角线。k > 0 的值用于选择在主对角线之上的对角线中的元素，k < 0 的值用于选择在主对角线之下的对角线中的元素"
   ]
  },
  {
   "cell_type": "code",
   "execution_count": 84,
   "metadata": {},
   "outputs": [
    {
     "data": {
      "text/plain": [
       "array([[ 0,  1,  2,  3,  4],\n",
       "       [ 5,  6,  7,  8,  9],\n",
       "       [10, 11, 12, 13, 14],\n",
       "       [15, 16, 17, 18, 19],\n",
       "       [20, 21, 22, 23, 24]])"
      ]
     },
     "execution_count": 84,
     "metadata": {},
     "output_type": "execute_result"
    }
   ],
   "source": [
    "X = np.arange(25).reshape(5, 5)\n",
    "X"
   ]
  },
  {
   "cell_type": "code",
   "execution_count": 87,
   "metadata": {},
   "outputs": [
    {
     "data": {
      "text/plain": [
       "array([ 1,  7, 13, 19])"
      ]
     },
     "execution_count": 87,
     "metadata": {},
     "output_type": "execute_result"
    }
   ],
   "source": [
    "z = np.diag(X, k=1)\n",
    "z"
   ]
  },
  {
   "cell_type": "markdown",
   "metadata": {},
   "source": [
    "### np.unique() 提取唯一的元素"
   ]
  },
  {
   "cell_type": "code",
   "execution_count": 89,
   "metadata": {},
   "outputs": [
    {
     "name": "stdout",
     "output_type": "stream",
     "text": [
      "unique: [1 2 3 5 8]\n"
     ]
    }
   ],
   "source": [
    "X = np.array([[1,2,3],[5,2,8],[1,2,3]])\n",
    "print('unique:',np.unique(X))"
   ]
  },
  {
   "cell_type": "markdown",
   "metadata": {},
   "source": [
    "### 布尔型索引、集合运算和排序\n",
    "### X[X > 10] 布尔\n",
    "### 集合\n",
    "- np.intersect1d(x,y)交集\n",
    "- np.setdiff1d(x,y)差集\n",
    "- np.union1d(x,y)并集"
   ]
  },
  {
   "cell_type": "code",
   "execution_count": 95,
   "metadata": {},
   "outputs": [
    {
     "data": {
      "text/plain": [
       "array([11, 12, 13, 14, 15, 16, 17, 18, 19, 20, 21, 22, 23, 24])"
      ]
     },
     "execution_count": 95,
     "metadata": {},
     "output_type": "execute_result"
    }
   ],
   "source": [
    "X = np.arange(25).reshape(5, 5)\n",
    "X[X > 10]"
   ]
  },
  {
   "cell_type": "code",
   "execution_count": 96,
   "metadata": {},
   "outputs": [
    {
     "data": {
      "text/plain": [
       "array([[ 0,  1,  2,  3,  4],\n",
       "       [ 5,  6,  7,  8,  9],\n",
       "       [10,  0,  0,  0,  0],\n",
       "       [ 0,  0, 17, 18, 19],\n",
       "       [20, 21, 22, 23, 24]])"
      ]
     },
     "execution_count": 96,
     "metadata": {},
     "output_type": "execute_result"
    }
   ],
   "source": [
    "X[(X > 10) & (X < 17)] = 0\n",
    "X"
   ]
  },
  {
   "cell_type": "code",
   "execution_count": 97,
   "metadata": {},
   "outputs": [
    {
     "name": "stdout",
     "output_type": "stream",
     "text": [
      "The elements that are both in x and y: [2 4]\n",
      "The elements that are in x that are not in y: [1 3 5]\n",
      "All the elements of x and y: [1 2 3 4 5 6 7 8]\n"
     ]
    }
   ],
   "source": [
    "x = np.array([1,2,3,4,5])\n",
    "y = np.array([6,7,2,8,4])\n",
    "print('The elements that are both in x and y:', np.intersect1d(x,y))\n",
    "print('The elements that are in x that are not in y:', np.setdiff1d(x,y))\n",
    "print('All the elements of x and y:',np.union1d(x,y))"
   ]
  },
  {
   "cell_type": "markdown",
   "metadata": {},
   "source": [
    "### np.sort() 排序"
   ]
  },
  {
   "cell_type": "code",
   "execution_count": 98,
   "metadata": {},
   "outputs": [
    {
     "data": {
      "text/plain": [
       "array([ 3,  6,  2,  1,  9, 10,  9,  5,  9,  8])"
      ]
     },
     "execution_count": 98,
     "metadata": {},
     "output_type": "execute_result"
    }
   ],
   "source": [
    "x = np.random.randint(1,11,size=(10,))\n",
    "x"
   ]
  },
  {
   "cell_type": "code",
   "execution_count": 99,
   "metadata": {},
   "outputs": [
    {
     "data": {
      "text/plain": [
       "array([ 1,  2,  3,  5,  6,  8,  9,  9,  9, 10])"
      ]
     },
     "execution_count": 99,
     "metadata": {},
     "output_type": "execute_result"
    }
   ],
   "source": [
    "np.sort(x)"
   ]
  },
  {
   "cell_type": "code",
   "execution_count": 100,
   "metadata": {},
   "outputs": [
    {
     "data": {
      "text/plain": [
       "array([ 3,  6,  2,  1,  9, 10,  9,  5,  9,  8])"
      ]
     },
     "execution_count": 100,
     "metadata": {},
     "output_type": "execute_result"
    }
   ],
   "source": [
    "x"
   ]
  },
  {
   "cell_type": "markdown",
   "metadata": {},
   "source": [
    "### np.unique(x) 去重"
   ]
  },
  {
   "cell_type": "code",
   "execution_count": 101,
   "metadata": {},
   "outputs": [
    {
     "data": {
      "text/plain": [
       "array([ 1,  2,  3,  5,  6,  8,  9, 10])"
      ]
     },
     "execution_count": 101,
     "metadata": {},
     "output_type": "execute_result"
    }
   ],
   "source": [
    "np.sort(np.unique(x))"
   ]
  },
  {
   "cell_type": "markdown",
   "metadata": {},
   "source": [
    "### np.sort(X, axis = 0) 按行还是按列排序？"
   ]
  },
  {
   "cell_type": "code",
   "execution_count": 105,
   "metadata": {},
   "outputs": [
    {
     "name": "stdout",
     "output_type": "stream",
     "text": [
      "Original X = \n",
      " [[ 4  7  7  2  4]\n",
      " [10  2  8  2 10]\n",
      " [ 5  4  5 10  6]\n",
      " [ 4  1  5  1  2]\n",
      " [ 2  6  7  6  5]]\n",
      "X with sorted columns :\n",
      " [[ 2  1  5  1  2]\n",
      " [ 4  2  5  2  4]\n",
      " [ 4  4  7  2  5]\n",
      " [ 5  6  7  6  6]\n",
      " [10  7  8 10 10]]\n",
      "X with sorted rows :\n",
      " [[ 2  4  4  7  7]\n",
      " [ 2  2  8 10 10]\n",
      " [ 4  5  5  6 10]\n",
      " [ 1  1  2  4  5]\n",
      " [ 2  5  6  6  7]]\n"
     ]
    }
   ],
   "source": [
    "X = np.random.randint(1,11,size=(5,5))\n",
    "print('Original X = \\n', X)\n",
    "print('X with sorted columns :\\n', np.sort(X, axis = 0))\n",
    "print('X with sorted rows :\\n', np.sort(X, axis = 1))"
   ]
  },
  {
   "cell_type": "markdown",
   "metadata": {},
   "source": [
    "## 算术运算和广播\n",
    "### 对array每个元素进行算术运算\n",
    "- np.add(x,y)\n",
    "- np.subtract(x,y)\n",
    "- np.multiply(x,y)\n",
    "- np.divide(x,y)"
   ]
  },
  {
   "cell_type": "code",
   "execution_count": 106,
   "metadata": {},
   "outputs": [
    {
     "data": {
      "text/plain": [
       "array([ 6.5,  8.5, 10.5, 12.5])"
      ]
     },
     "execution_count": 106,
     "metadata": {},
     "output_type": "execute_result"
    }
   ],
   "source": [
    "x = np.array([1,2,3,4])\n",
    "y = np.array([5.5,6.5,7.5,8.5])\n",
    "np.add(x,y)  \n",
    "\n",
    "# x + y"
   ]
  },
  {
   "cell_type": "markdown",
   "metadata": {},
   "source": [
    "### 对维度相同的array可以执行算术操作"
   ]
  },
  {
   "cell_type": "code",
   "execution_count": 107,
   "metadata": {},
   "outputs": [
    {
     "name": "stdout",
     "output_type": "stream",
     "text": [
      "X + Y = \n",
      " [[ 6.5  8.5]\n",
      " [10.5 12.5]]\n"
     ]
    }
   ],
   "source": [
    "X = np.array([1,2,3,4]).reshape(2,2)\n",
    "Y = np.array([5.5,6.5,7.5,8.5]).reshape(2,2)\n",
    "print('X + Y = \\n', X + Y)"
   ]
  },
  {
   "cell_type": "markdown",
   "metadata": {},
   "source": [
    "### sqrt(array)\n",
    "### np.exp(x)\n",
    "### np.power(x,2)"
   ]
  },
  {
   "cell_type": "code",
   "execution_count": 108,
   "metadata": {},
   "outputs": [
    {
     "name": "stdout",
     "output_type": "stream",
     "text": [
      "EXP(x) = [ 2.71828183  7.3890561  20.08553692 54.59815003]\n",
      "SQRT(x) = [1.         1.41421356 1.73205081 2.        ]\n",
      "POW(x,2) = [ 1  4  9 16]\n"
     ]
    }
   ],
   "source": [
    "x = np.array([1,2,3,4])\n",
    "print('EXP(x) =', np.exp(x)) # 欧拉系数\n",
    "print('SQRT(x) =',np.sqrt(x)) # 平方根\n",
    "print('POW(x,2) =',np.power(x,2)) # 平方"
   ]
  },
  {
   "cell_type": "markdown",
   "metadata": {},
   "source": [
    "### 平均数\n",
    "- X.mean()\n",
    "- X.mean(axis=0)\n",
    "- X.mean(axis=1)\n",
    "### 求和\n",
    "- X.sum()\n",
    "- X.sum(axis=0)\n",
    "- X.sum(axis=1)\n",
    "### 最大值，最小值，X.max(axis=0), X.min(axis=1)\n",
    "### 标准差X.std()，\n",
    "### 中位数X.median()"
   ]
  },
  {
   "cell_type": "markdown",
   "metadata": {},
   "source": [
    "### 可以对两个形状不同的 ndarray 执行相同的操作"
   ]
  },
  {
   "cell_type": "code",
   "execution_count": 111,
   "metadata": {},
   "outputs": [
    {
     "name": "stdout",
     "output_type": "stream",
     "text": [
      "x =  [1 2 3]\n",
      "\n",
      "Y = \n",
      " [[1 2 3]\n",
      " [4 5 6]\n",
      " [7 8 9]]\n",
      "\n",
      "x + Y = \n",
      " [[ 2  4  6]\n",
      " [ 5  7  9]\n",
      " [ 8 10 12]]\n",
      "\n",
      "Z + Y = \n",
      " [[ 2  3  4]\n",
      " [ 6  7  8]\n",
      " [10 11 12]]\n"
     ]
    }
   ],
   "source": [
    "x = np.array([1,2,3])\n",
    "Y = np.array([[1,2,3],[4,5,6],[7,8,9]])\n",
    "Z = np.array([1,2,3]).reshape(3,1)\n",
    "\n",
    "print('x = ', x)\n",
    "print()\n",
    "print('Y = \\n', Y)\n",
    "print()\n",
    "print('x + Y = \\n', x + Y)\n",
    "print()\n",
    "print('Z + Y = \\n',Z + Y)"
   ]
  },
  {
   "cell_type": "code",
   "execution_count": null,
   "metadata": {},
   "outputs": [],
   "source": []
  }
 ],
 "metadata": {
  "kernelspec": {
   "display_name": "Python 3",
   "language": "python",
   "name": "python3"
  },
  "language_info": {
   "codemirror_mode": {
    "name": "ipython",
    "version": 3
   },
   "file_extension": ".py",
   "mimetype": "text/x-python",
   "name": "python",
   "nbconvert_exporter": "python",
   "pygments_lexer": "ipython3",
   "version": "3.6.5"
  }
 },
 "nbformat": 4,
 "nbformat_minor": 2
}

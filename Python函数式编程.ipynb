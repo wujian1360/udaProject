{
 "cells": [
  {
   "cell_type": "markdown",
   "metadata": {},
   "source": [
    "# 函数式编程\n",
    "- 不同语言的抽象层次，从低到高，从计算机到计算，计算的本质就是数学\n",
    "    - 计算机硬件————指令\n",
    "    - 汇编语言\n",
    "    - C————函数\n",
    "    - Python————函数式\n",
    "    \n",
    "- 函数式编程的特点：\n",
    "    - 把计算视为函数而非指令\n",
    "    - 纯函数式编程：不需要变量、没有副作用、测试简单\n",
    "    - 支持高阶函数，代码简洁\n",
    "    \n",
    "### python支持的函数式编程，但不是纯函数式编程\n",
    "\n",
    "    - python不是纯函数式编程：允许有变量\n",
    "    - 支持高阶函数:函数可以所谓变量传入\n",
    "    - 支持闭包：闭包能返回函数\n",
    "    - 有限地支持匿名函数\n",
    "    \n",
    "# 高阶函数\n",
    "## 定义：能够接收函数作为参数的函数  叫做高阶函数\n",
    "- 变量可以指向函数\n",
    "- 函数名就是指向函数的一个变量\n",
    "- 如果把abs指向另一个函数名，那么abs就不是求绝对值了\n",
    "- **高阶函数只能接收函数作为参数**"
   ]
  },
  {
   "cell_type": "code",
   "execution_count": 3,
   "metadata": {},
   "outputs": [
    {
     "name": "stdout",
     "output_type": "stream",
     "text": [
      "20\n"
     ]
    }
   ],
   "source": [
    "f = abs\n",
    "print(f(-20))\n",
    "\n",
    "# abs也可以指向别的系统函数\n",
    "# abs = len\n",
    "# print(abs([1,2,3]))"
   ]
  },
  {
   "cell_type": "code",
   "execution_count": 2,
   "metadata": {},
   "outputs": [
    {
     "data": {
      "text/plain": [
       "4.5"
      ]
     },
     "execution_count": 2,
     "metadata": {},
     "output_type": "execute_result"
    }
   ],
   "source": [
    "def add(x, y, func):\n",
    "    return func(x) + func(y)\n",
    "\n",
    "add(-3, 1.5, abs)"
   ]
  },
  {
   "cell_type": "code",
   "execution_count": 6,
   "metadata": {},
   "outputs": [
    {
     "name": "stdout",
     "output_type": "stream",
     "text": [
      "8.0\n"
     ]
    }
   ],
   "source": [
    "import math\n",
    "\n",
    "def addSqrt(x, y, f):\n",
    "    return f(x) + f(y)\n",
    "\n",
    "print (addSqrt(25, 9, math.sqrt))"
   ]
  },
  {
   "cell_type": "markdown",
   "metadata": {},
   "source": [
    "## map()函数\n",
    "- map()是 Python 内置的高阶函数，它接收一个函数 f 和一个 list，并通过把函数 f 依次作用在 list 的每个元素上，得到一个新的 list 并返回。"
   ]
  },
  {
   "cell_type": "code",
   "execution_count": 14,
   "metadata": {},
   "outputs": [
    {
     "data": {
      "text/plain": [
       "map"
      ]
     },
     "execution_count": 14,
     "metadata": {},
     "output_type": "execute_result"
    }
   ],
   "source": [
    "#我们只需要传入函数f(x)=x*x，就可以利用map()函数完成这个计算：\n",
    "def f(x):\n",
    "    return x*x\n",
    "m = map(f, [1, 2, 3, 4, 5, 6, 7, 8, 9])\n",
    "# [1, 4, 9, 10, 25, 36, 49, 64, 81]\n",
    "type(m)"
   ]
  },
  {
   "cell_type": "markdown",
   "metadata": {},
   "source": [
    "## reduce()函数\n",
    "- reduce()函数接收的参数和 map()类似，一个函数 f，一个list，但行为和 map()不同，reduce()传入的函数 f 必须接收两个参数，reduce()对list的每个元素反复调用函数f，并返回最终结果值。"
   ]
  },
  {
   "cell_type": "code",
   "execution_count": 17,
   "metadata": {},
   "outputs": [
    {
     "name": "stdout",
     "output_type": "stream",
     "text": [
      "3360\n"
     ]
    }
   ],
   "source": [
    "from functools import reduce\n",
    "\n",
    "def prod(x, y):\n",
    "    return x * y\n",
    "r  = reduce(prod, [2, 4, 5, 7, 12])\n",
    "print(r)"
   ]
  },
  {
   "cell_type": "markdown",
   "metadata": {},
   "source": [
    "## filter()函数\n",
    "- filter()函数接收一个函数 f 和一个list，这个函数 f 的作用是对每个元素进行判断，返回 True或 False，filter()根据判断结果自动过滤掉不符合条件的元素，返回由符合条件元素组成的新list。"
   ]
  },
  {
   "cell_type": "code",
   "execution_count": 25,
   "metadata": {},
   "outputs": [
    {
     "name": "stdout",
     "output_type": "stream",
     "text": [
      "1  7  9  17  "
     ]
    }
   ],
   "source": [
    "def is_odd(x):\n",
    "    return x % 2 == 1\n",
    "f = filter(is_odd, [1, 4, 6, 7, 9, 12, 17])\n",
    "for i in f:\n",
    "    print(i,end='  ')"
   ]
  },
  {
   "cell_type": "code",
   "execution_count": 27,
   "metadata": {},
   "outputs": [
    {
     "name": "stdout",
     "output_type": "stream",
     "text": [
      "test  str  END  "
     ]
    }
   ],
   "source": [
    "def is_not_empty(s):\n",
    "    return s and len(s.strip()) > 0\n",
    "# 去除空元素和空格元素\n",
    "f = filter(is_not_empty, ['test', None, '', 'str', '  ', 'END'])\n",
    "for i in f:\n",
    "    print(i,end='  ')"
   ]
  },
  {
   "cell_type": "markdown",
   "metadata": {},
   "source": [
    "- 注意: s.strip(rm) 删除 s 字符串中开头、结尾处的 rm 序列的字符。\n",
    "- 当rm为空时，默认删除空白符（包括'\\n', '\\r', '\\t', ' ')，如下："
   ]
  },
  {
   "cell_type": "code",
   "execution_count": 30,
   "metadata": {},
   "outputs": [
    {
     "name": "stdout",
     "output_type": "stream",
     "text": [
      "123\n",
      "123\n"
     ]
    }
   ],
   "source": [
    "a = '     123'\n",
    "print(a.strip())\n",
    "\n",
    "a='\\t\\t123\\r\\n'\n",
    "print(a.strip())"
   ]
  },
  {
   "cell_type": "code",
   "execution_count": 44,
   "metadata": {},
   "outputs": [
    {
     "name": "stdout",
     "output_type": "stream",
     "text": [
      "1  4  9  16  25  36  49  64  81  100  "
     ]
    }
   ],
   "source": [
    "# 请利用filter()过滤出1~100中平方根是整数的数，即结果应该是：\n",
    "\n",
    "[1, 4, 9, 16, 25, 36, 49, 64, 81, 100]\n",
    "import math\n",
    "\n",
    "def is_sqr(x):\n",
    "    if str(math.sqrt(x))[-2:] == '.0':\n",
    "        return x\n",
    "\n",
    "f = filter(is_sqr, range(1, 101))  \n",
    "\n",
    "for i in f:\n",
    "    print(i,end='  ')"
   ]
  },
  {
   "cell_type": "markdown",
   "metadata": {},
   "source": [
    "## sorted()函数\n",
    "- sorted()也是一个高阶函数，它可以接收一个比较函数来实现自定义排序，比较函数的定义是，传入两个待比较的元素 x, y，如果 x 应该排在 y 的前面，返回 -1，如果 x 应该排在 y 的后面，返回 1。如果 x 和 y 相等，返回 0。"
   ]
  },
  {
   "cell_type": "code",
   "execution_count": 58,
   "metadata": {},
   "outputs": [
    {
     "name": "stdout",
     "output_type": "stream",
     "text": [
      "36  21  12  9  5  "
     ]
    }
   ],
   "source": [
    "# Python3.x取消了 cmp参数， 所以如果想给 sorted()函数传参的话，就剩下 key,和reverse了\n",
    "from functools import cmp_to_key\n",
    "\n",
    "def cmp_reversed(x, y):\n",
    "    if x > y:\n",
    "        return -1\n",
    "    elif x < y:\n",
    "        return 1\n",
    "    return 0\n",
    "\n",
    "f = sorted([36, 5, 12, 9, 21], key=cmp_to_key(cmp_reversed))\n",
    "\n",
    "for i in f:\n",
    "    print(i,end='  ')"
   ]
  },
  {
   "cell_type": "markdown",
   "metadata": {},
   "source": [
    "## python中返回函数"
   ]
  },
  {
   "cell_type": "code",
   "execution_count": 59,
   "metadata": {},
   "outputs": [
    {
     "name": "stdout",
     "output_type": "stream",
     "text": [
      "24\n"
     ]
    }
   ],
   "source": [
    "# 请编写一个函数calc_prod(lst)，它接收一个list，返回一个函数，返回函数可以计算参数的乘积。\n",
    "def calc_prod(lst):\n",
    "    def prod():\n",
    "        def func(x, y):\n",
    "            return x * y\n",
    "        return reduce(func, lst)\n",
    "    return prod\n",
    "\n",
    "f = calc_prod([1, 2, 3, 4])\n",
    "print (f())"
   ]
  },
  {
   "cell_type": "code",
   "execution_count": 60,
   "metadata": {},
   "outputs": [
    {
     "data": {
      "text/plain": [
       "10"
      ]
     },
     "execution_count": 60,
     "metadata": {},
     "output_type": "execute_result"
    }
   ],
   "source": [
    "# 返回函数可以把一些计算延迟执行。例如，如果定义一个普通的求和函数：\n",
    "def calc_sum(lst):\n",
    "    def lazy_sum():\n",
    "        return sum(lst)\n",
    "    return lazy_sum\n",
    "# 调用calc_sum()并没有计算出结果，而是返回函数:\n",
    "f = calc_sum([1, 2, 3, 4])\n",
    "# 对返回的函数进行调用时，才计算出结果:\n",
    "f()"
   ]
  },
  {
   "cell_type": "markdown",
   "metadata": {},
   "source": [
    "## python中闭包\n",
    "- 函数内部定义的函数无法被外部访问\n",
    "- 所以闭包可以防止其他代码访问函数"
   ]
  },
  {
   "cell_type": "code",
   "execution_count": 64,
   "metadata": {},
   "outputs": [],
   "source": [
    "#返回闭包不能引用循环变量，请改写count()函数，让它正确返回能计算1x1、2x2、3x3的函数。\n",
    "#考察下面的函数 f:\n",
    "def f(j):\n",
    "    def g():\n",
    "        return j*j\n",
    "    return g"
   ]
  },
  {
   "cell_type": "code",
   "execution_count": 63,
   "metadata": {},
   "outputs": [
    {
     "name": "stdout",
     "output_type": "stream",
     "text": [
      "1 4 9\n"
     ]
    }
   ],
   "source": [
    "#它可以正确地返回一个闭包g，g所引用的变量j不是循环变量，因此将正常执行。\n",
    "#在count函数的循环内部，如果借助f函数，就可以避免引用循环变量i。\n",
    "def count():\n",
    "    fs = []\n",
    "    for i in range(1, 4):\n",
    "        def f(j):\n",
    "            def g():\n",
    "                return j*j\n",
    "            return g\n",
    "        r = f(i)\n",
    "        fs.append(r)\n",
    "    return fs\n",
    "f1, f2, f3 = count()\n",
    "print (f1(), f2(), f3())"
   ]
  },
  {
   "cell_type": "markdown",
   "metadata": {},
   "source": [
    "## 匿名函数 lambda\n",
    "- lambda s: s and len(s.strip()) > 0"
   ]
  },
  {
   "cell_type": "code",
   "execution_count": 73,
   "metadata": {},
   "outputs": [
    {
     "name": "stdout",
     "output_type": "stream",
     "text": [
      "test  str  END  "
     ]
    }
   ],
   "source": [
    "f = filter(lambda s: s and len(s.strip())>0, ['test', None, '', 'str', '  ', 'END'])\n",
    "for i in f:\n",
    "    print(i,end='  ')"
   ]
  },
  {
   "cell_type": "code",
   "execution_count": null,
   "metadata": {},
   "outputs": [],
   "source": []
  }
 ],
 "metadata": {
  "kernelspec": {
   "display_name": "Python 3",
   "language": "python",
   "name": "python3"
  },
  "language_info": {
   "codemirror_mode": {
    "name": "ipython",
    "version": 3
   },
   "file_extension": ".py",
   "mimetype": "text/x-python",
   "name": "python",
   "nbconvert_exporter": "python",
   "pygments_lexer": "ipython3",
   "version": "3.6.5"
  }
 },
 "nbformat": 4,
 "nbformat_minor": 2
}

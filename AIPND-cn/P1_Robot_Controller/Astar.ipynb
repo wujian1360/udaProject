{
 "cells": [
  {
   "cell_type": "code",
   "execution_count": 1,
   "metadata": {},
   "outputs": [
    {
     "name": "stdout",
     "output_type": "stream",
     "text": [
      "[0, 0, 0, 2, 0, 0, 0, 0, 0]\n",
      "[0, 1, 0, 0, 2, 0, 0, 0, 0]\n",
      "[0, 0, 0, 0, 2, 0, 0, 0, 0]\n",
      "[0, 0, 2, 2, 2, 3, 0, 0, 0]\n",
      "[0, 0, 0, 0, 0, 0, 0, 0, 0]\n",
      "start:  (1, 1)\n",
      "end:  (3, 5)\n"
     ]
    }
   ],
   "source": [
    "env_data = [\n",
    "    [0,0,0,2,0,0,0,0,0],\n",
    "    [0,1,0,0,2,0,0,0,0],\n",
    "    [0,0,0,0,2,0,0,0,0],\n",
    "    [0,0,2,2,2,3,0,0,0],\n",
    "    [0,0,0,0,0,0,0,0,0]\n",
    "]\n",
    "\n",
    "def getlocation(env, value):\n",
    "    for i in range(len(env)):\n",
    "        for j in range(len(env[i])):\n",
    "            if env[i][j] is value:\n",
    "                return (i, j)\n",
    "    return None\n",
    "\n",
    "local_map = {\n",
    "    \"start\":getlocation(env_data, 1),\n",
    "    \"end\":getlocation(env_data, 3)\n",
    "}\n",
    "\n",
    "for i in env_data:\n",
    "    print(i)\n",
    "    \n",
    "print(\"start: \",local_map[\"start\"])\n",
    "print(\"end: \",local_map[\"end\"])"
   ]
  },
  {
   "cell_type": "code",
   "execution_count": 9,
   "metadata": {},
   "outputs": [
    {
     "name": "stdout",
     "output_type": "stream",
     "text": [
      "[0, 0, 0, 2, 0, 0, 0, 0, 0]\n",
      "[0, 1, 0, 0, 2, 0, 0, 0, 0]\n",
      "[0, 0, 0, 0, 2, 0, 0, 0, 0]\n",
      "[0, 0, 2, 2, 2, 3, 0, 0, 0]\n",
      "[0, 0, 0, 0, 0, 0, 0, 0, 0]\n"
     ]
    },
    {
     "data": {
      "text/plain": [
       "[(1, 1), (2, 1), (3, 1), (4, 1), (4, 2), (4, 3), (4, 4), (4, 5), (3, 5)]"
      ]
     },
     "execution_count": 9,
     "metadata": {},
     "output_type": "execute_result"
    }
   ],
   "source": [
    "# 判断act是否可以通行\n",
    "def is_move_valid(env, loc, act):\n",
    "    columns = len(env[0])\n",
    "    rows = len(env)\n",
    "    \n",
    "    x, y = loc\n",
    "    actionable_dict = {\n",
    "        'u': (x-1, y),\n",
    "        'd': (x+1, y),\n",
    "        'l': (x, y-1),\n",
    "        'r': (x, y+1)\n",
    "    }\n",
    "    if act in actionable_dict.keys():\n",
    "        x, y = actionable_dict[act]\n",
    "    else:\n",
    "        raise Exception(\"Action is Error!\")\n",
    "\n",
    "    return (0 <= y <= columns - 1) and (0 <= x <= rows - 1) and (env_data[x][y] != 2)\n",
    "\n",
    "# 计算两点的h成本值\n",
    "def h_value(a_loc, b_loc):\n",
    "    return(abs(a_loc[0] - b_loc[0]) + abs(a_loc[1] - b_loc[1]))\n",
    "\n",
    "# 返回移动一步后的位置\n",
    "def move_step(loc, act):\n",
    "    \n",
    "    valid_actions_list = [\"u\", \"d\", \"l\", \"r\"]\n",
    "    directionDict = {\"u\": (-1, 0), \"d\": (1, 0), \"l\": (0, -1), \"r\": (0, 1)}\n",
    "    \n",
    "    if act in valid_actions_list:\n",
    "        new_loc = (directionDict[act][0]+loc[0], directionDict[act][1]+loc[1])\n",
    "        return new_loc\n",
    "    else:\n",
    "        return False\n",
    "\n",
    "# 寻找最短路径\n",
    "def astar_pathfinding(env, startloc, endloc):\n",
    "    '''\n",
    "    F = G + H\n",
    "    在地图env_data中寻找从start_loc到end_loc的可行路径\n",
    "    env_data：地图数据，2维列表数据格式\n",
    "    start_loc：起始位置，(x , y)元组数据格式\n",
    "    end_loc：目标位置，(x , y)元组数据格式\n",
    "    函数返回一个路径列表，列表的每个元素为代表地图位置的(x , y)元组数据\n",
    "    路径排序算法f = g + h，g值为从起点到指定节点的路径代价，h值为从指定节点到终点的估算路径代价\n",
    "    '''\n",
    "    open_dict = {}\n",
    "    close_dict = {}\n",
    "    final_path = []\n",
    "    \n",
    "    start_h_value = h_value(startloc, endloc)\n",
    "    # key = loc,  value = [f, g, h, parrentloc]\n",
    "    open_dict[startloc] = [start_h_value, 0, start_h_value, startloc]\n",
    "    \n",
    "    while endloc not in open_dict:\n",
    "        # 对open_dict中的点进行排序，f最小的点放最前面\n",
    "        currentloc = sorted(open_dict, key=open_dict.__getitem__)[0]\n",
    "        \n",
    "        for act in ['u', 'd', 'l', 'r']:# 遍历四个方向\n",
    "            if is_move_valid(env_data, currentloc, act):# 找出可行的方向\n",
    "                nextloc = move_step(currentloc, act)# 获取next location\n",
    "                \n",
    "                if nextloc not in close_dict: # 如果next location不在close_dict中，计算g，h\n",
    "                    g = open_dict[currentloc][1] + 1\n",
    "                    h = h_value(nextloc, endloc)\n",
    "                    \n",
    "                    if nextloc not in open_dict or g < open_dict[nextloc][1]:# 如果next location不在open_dict中, 或 g值在open_dict中最小\n",
    "                        open_dict[nextloc] = [g+h, g, h, currentloc]\n",
    "   \n",
    "                        \n",
    "        close_dict[currentloc] = open_dict[currentloc]\n",
    "        del open_dict[currentloc]\n",
    "        \n",
    "    close_dict[endloc] = open_dict[endloc]\n",
    "    \n",
    "    currentloc = endloc\n",
    "    while startloc not in final_path:\n",
    "        final_path.append(currentloc)\n",
    "        currentloc = close_dict[currentloc][-1]\n",
    "        \n",
    "    for i in env:\n",
    "        print(i)\n",
    "        \n",
    "    return final_path[::-1]\n",
    "    \n",
    "astar_pathfinding(env_data, local_map[\"start\"], local_map[\"end\"])"
   ]
  },
  {
   "cell_type": "code",
   "execution_count": 34,
   "metadata": {
    "collapsed": true
   },
   "outputs": [],
   "source": [
    "[0, 0, 0, 2, 0, 0, 0, 0, 0]\n",
    "[0, 1, 0, 0, 2, 0, 0, 0, 0]\n",
    "[0, 0, 0, 0, 2, 0, 0, 0, 0]\n",
    "[0, 0, 2, 2, 2, 3, 0, 0, 0]\n",
    "[0, 0, 0, 0, 0, 0, 0, 0, 0]\n",
    "start:  (1, 1)\n",
    "end:  (3, 5)"
   ]
  },
  {
   "cell_type": "code",
   "execution_count": null,
   "metadata": {
    "collapsed": true
   },
   "outputs": [],
   "source": []
  }
 ],
 "metadata": {
  "kernelspec": {
   "display_name": "Python 3",
   "language": "python",
   "name": "python3"
  },
  "language_info": {
   "codemirror_mode": {
    "name": "ipython",
    "version": 3
   },
   "file_extension": ".py",
   "mimetype": "text/x-python",
   "name": "python",
   "nbconvert_exporter": "python",
   "pygments_lexer": "ipython3",
   "version": "3.6.2"
  }
 },
 "nbformat": 4,
 "nbformat_minor": 2
}

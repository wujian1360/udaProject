{
 "cells": [
  {
   "cell_type": "markdown",
   "metadata": {},
   "source": [
    "## 控制迷宫寻宝机器人\n",
    "\n",
    "在这个项目中，你将使用刚刚学到的知识，尝试根据要求，编写代码，来控制一个机器人，在模拟环境中行走，并找到目标宝藏。\n",
    "\n",
    "机器人所在的模拟环境中，会包含这样几个因素：机器人的起点、障碍物、宝藏箱。你的任务包括：\n",
    "\n",
    "1. 分析模拟环境的数据\n",
    "2. 控制机器人随机行动\n",
    "3. （可选）控制机器人走到终点\n",
    "\n",
    "\n",
    "* 一个良好的含有注释的代码，可以让你的程序可读性更高，尝试为你自己的代码添加相应的注释。"
   ]
  },
  {
   "cell_type": "markdown",
   "metadata": {},
   "source": [
    "---\n",
    "\n",
    "---\n",
    "\n",
    "## 第一节 分析模拟环境的数据\n",
    "\n",
    "首先，只有足够了解机器人所在的环境，我们的机器人才能成功找到目标宝藏，因此首先我们来对机器人所在环境的数据进行分析。在这个部分，会考察你对数据结构、控制流的了解。\n"
   ]
  },
  {
   "cell_type": "markdown",
   "metadata": {},
   "source": [
    "### 1.1 理解模拟环境数据的储存格式\n",
    "\n",
    "首先我们思考这样的问题：如何存储模拟环境的数据呢？\n",
    "\n",
    "我们将我们的模拟环境抽象成一个格子世界，每个格子按照坐标编号进行标记；每个格子中会有四个情况，分别为普通格子（可通行）、机器人的起点（可通行）、障碍物（不可通行）、宝藏箱（目标点）。例如，一个模拟环境就可以抽象成3行4列的格子世界，并按这按这样的方法进行存储：\n",
    "```\n",
    "environment = [[0,0,0,2], \n",
    "               [1,2,0,0],\n",
    "               [0,2,3,2]]\n",
    "```\n",
    "我们用了一个列表来保存虚拟世界的数据。外层列表中的每一个元素依然是一个列表，它代表模拟环境中每行的数据。而对于这个列表中的每个元素都是一个数，它们的含义是：\n",
    "- 0: 普通格子（可通行）\n",
    "- 1: 机器人的起点（可通行）\n",
    "- 2: 障碍物（不可通行）\n",
    "- 3: 宝藏箱（目标点）\n",
    "\n",
    "那么，根据上述的数据，这个迷宫的第二行第一列，是我们机器人的起点。\n",
    "\n",
    "__注：我们描述的迷宫的坐标位置（第一行第一列），和迷宫下标索引的值（如 `(0,0)`）是不一样的，请注意下标的问题。__\n",
    "\n",
    "\n",
    "如下的代码，使用了辅助函数，读取了模拟环境的数据，并保存在了 `env_data` 变量中。\n"
   ]
  },
  {
   "cell_type": "code",
   "execution_count": 8,
   "metadata": {},
   "outputs": [
    {
     "name": "stdout",
     "output_type": "stream",
     "text": [
      "maze-id 1-1544967137\n",
      "[[3, 2, 2, 2, 2, 2, 2, 2, 1],\n",
      " [0, 0, 2, 2, 2, 2, 2, 0, 0],\n",
      " [2, 0, 0, 2, 2, 2, 0, 0, 2],\n",
      " [2, 2, 0, 0, 2, 0, 0, 2, 2],\n",
      " [2, 2, 2, 0, 0, 0, 2, 2, 2]]\n"
     ]
    }
   ],
   "source": [
    "import helper\n",
    "\n",
    "env_data = helper.fetch_maze()\n"
   ]
  },
  {
   "cell_type": "markdown",
   "metadata": {},
   "source": [
    "---\n",
    "\n",
    "\n",
    "**任务1：**在如下代码中，请写代码获得这些值：\n",
    "\n",
    "1. 模拟环境的长和宽\n",
    "2. 模拟环境中第3行第6列元素"
   ]
  },
  {
   "cell_type": "code",
   "execution_count": 9,
   "metadata": {},
   "outputs": [
    {
     "name": "stdout",
     "output_type": "stream",
     "text": [
      "迷宫共有 5 行 9 列，第三行第六列的元素是 2\n"
     ]
    }
   ],
   "source": [
    "#TODO 1模拟环境的行数\n",
    "rows = len(env_data) \n",
    "\n",
    "#TODO 2模拟环境的列数\n",
    "columns = len(env_data[0]) \n",
    "\n",
    "#TODO 3取出模拟环境第三行第六列的元素\n",
    "row_3_col_6 = env_data[2][5] \n",
    "\n",
    "print(\"迷宫共有\", rows, \"行\", columns, \"列，第三行第六列的元素是\", row_3_col_6)"
   ]
  },
  {
   "cell_type": "markdown",
   "metadata": {
    "collapsed": true
   },
   "source": [
    "---\n",
    "\n",
    "## 1.2 分析模拟环境数据\n",
    "\n",
    "接着我们需要对模拟环境的中的数据进行分析。请根据如下的指示，计算相应的值。\n",
    "\n",
    "---\n",
    "\n",
    "**任务2：**在如下代码中，请计算模拟环境中，第一行和第三列的障碍物个数。\n",
    "\n",
    "提示：*可以用循环完成。*"
   ]
  },
  {
   "cell_type": "code",
   "execution_count": 10,
   "metadata": {},
   "outputs": [
    {
     "name": "stdout",
     "output_type": "stream",
     "text": [
      "迷宫中，第一行共有 7 个障碍物，第三列共有 3 个障碍物。\n"
     ]
    }
   ],
   "source": [
    "#TODO 4计算模拟环境中，第一行的的障碍物个数。\n",
    "number_of_barriers_row1 = None\n",
    "# number_of_barriers_row1 = 0\n",
    "# for i in env_data[0]:\n",
    "#     if i == 2 :\n",
    "#         number_of_barriers_row1 += 1\n",
    "        \n",
    "#TODO 5计算模拟环境中，第三列的的障碍物个数。\n",
    "number_of_barriers_col3 = None\n",
    "# number_of_barriers_col3 = 0\n",
    "# for i in env_data:\n",
    "#     if i[2] == 2:\n",
    "#         number_of_barriers_col3 += 1\n",
    "\n",
    "\n",
    "# 更正：\n",
    "\n",
    "number_of_barriers_row1 = env_data[0].count(2) # \n",
    "number_of_barriers_col3 = list(zip(*env_data))[2].count(2)\n",
    "        \n",
    "print(\"迷宫中，第一行共有\", number_of_barriers_row1, \"个障碍物，第三列共有\", number_of_barriers_col3, \"个障碍物。\")"
   ]
  },
  {
   "cell_type": "code",
   "execution_count": 11,
   "metadata": {},
   "outputs": [
    {
     "name": "stderr",
     "output_type": "stream",
     "text": [
      ".\n",
      "----------------------------------------------------------------------\n",
      "Ran 1 test in 0.001s\n",
      "\n",
      "OK\n"
     ]
    }
   ],
   "source": [
    "%run -i -e test.py RobotControllortTestCase.test_cal_barriers"
   ]
  },
  {
   "cell_type": "markdown",
   "metadata": {},
   "source": [
    "---\n",
    "\n",
    "**任务3：**在如下代码中：\n",
    "\n",
    "1. 创建一个名为 `loc_map` 的字典，它有两个键值，分别为 `start` 和 `destination`，对应的值分别为起点和目标点的坐标，它们以如 `(0,0)` 的形式保存为元组。\n",
    "2. 从字典中取出 `start` 对应的值，保存在 `robot_current_loc` 对应的变量中，这个变量表示小车现在的位置。"
   ]
  },
  {
   "cell_type": "code",
   "execution_count": 12,
   "metadata": {},
   "outputs": [],
   "source": [
    "loc_map = {} #TODO 6按照上述要求创建字典\n",
    "# loc_map = {\"start\":(0,8), \"destination\":(0,0)}\n",
    "\n",
    "robot_current_loc = None #TODO 7保存机器人当前的位置\n",
    "# robot_current_loc = loc_map[\"start\"]\n",
    "\n",
    "\n",
    "\n",
    "# 更正\n",
    "\n",
    "# 先定义start和的事destination两个点\n",
    "start_value = 1\n",
    "destination_value = 3\n",
    "\n",
    "# 定义一个函数，用来取一个点的坐标\n",
    "def get_loc(env, value):\n",
    "    for i in env:\n",
    "        if value in i:\n",
    "            return (env.index(i), i.index(value))\n",
    "    return None\n",
    "\n",
    "loc_map = {\n",
    "    \"start\": get_loc(env_data, start_value), \n",
    "    \"destination\": get_loc(env_data, destination_value) \n",
    "}\n",
    "\n",
    "robot_current_loc = loc_map[\"start\"]\n",
    "robot_destination_loc = loc_map[\"destination\"]"
   ]
  },
  {
   "cell_type": "code",
   "execution_count": 13,
   "metadata": {},
   "outputs": [
    {
     "name": "stderr",
     "output_type": "stream",
     "text": [
      ".\n",
      "----------------------------------------------------------------------\n",
      "Ran 1 test in 0.001s\n",
      "\n",
      "OK\n"
     ]
    }
   ],
   "source": [
    "%run -i -e test.py RobotControllortTestCase.test_cal_loc_map"
   ]
  },
  {
   "cell_type": "markdown",
   "metadata": {},
   "source": [
    "\n",
    "---\n",
    "\n",
    "---\n",
    "\n",
    "## 第二节 控制机器人随机漫步\n",
    "\n",
    "在这一步中，你需发出指令，控制机器人在环境中随机行动。它会考察你对控制流、调用函数的知识。"
   ]
  },
  {
   "cell_type": "markdown",
   "metadata": {},
   "source": [
    "\n",
    "\n",
    "## 2.1 控制机器人行动\n",
    "\n",
    "我们的机器人能够执行四个动作：向上走 `u`、向下走 `d`、向左走 `l`、向右走 `r`。但是，由于有障碍，很多时候机器人的行动并不能成功。所以在这里，你需要实现一个函数，来判断机器人在某个位置，执行某个移动动作是否可行。\n",
    "\n",
    "---\n",
    "\n",
    "**任务4：**在下方代码中，实现名为 `is_move_valid_special` 的函数，它有两个输入，分别为机器人所在的位置坐标 `loc`，以及即将执行的动作 `act`，如 `(1,1)` 及 `u`。接着它的返回是一个布尔值，表明小车在 `loc` 位置下，是否可以执行动作 `act`。\n",
    "\n",
    "\n",
    "提示1：*可以读取上方定义的 `env_data` 变量，来读取模拟环境的数据。*\n",
    "\n",
    "提示2：*在实现函数后，请删去下方的 `pass` 代码。*\n",
    "\n",
    "提示3：*我们需要处理边界的情况，即机器人走到了虚拟环境边界时，是不能够走出虚拟环境的。*"
   ]
  },
  {
   "cell_type": "code",
   "execution_count": 14,
   "metadata": {},
   "outputs": [
    {
     "name": "stdout",
     "output_type": "stream",
     "text": [
      "当前位置在： (0, 8)\n",
      "是否可以上移动： False\n",
      "是否可以下移动： True\n",
      "是否可以左移动： False\n",
      "是否可以右移动： False\n"
     ]
    }
   ],
   "source": [
    "def is_move_valid_special(loc, act):\n",
    "    \"\"\"\n",
    "    判断机器人是否可以向act方向移动1格\n",
    "    loc：机器人当前位置：\n",
    "    返回：bool\n",
    "    \n",
    "    Judge wether the robot can take action act\n",
    "    at location loc.\n",
    "    \n",
    "    Keyword arguments:\n",
    "    loc -- tuple, robots current location\n",
    "    act -- string, robots meant action\n",
    "    \"\"\"\n",
    "#     #TODO 8\n",
    "# #     取得边界\n",
    "#     rows = len(env_data) - 1\n",
    "#     columns = len(env_data[0]) - 1\n",
    "    \n",
    "# #     初始值为空\n",
    "#     tar_value = None\n",
    "\n",
    "# #     匹配act索引，确定移动方向\n",
    "#     directionDict = {\"u\": (-1, 0), \"d\": (1, 0), \"l\": (0, -1), \"r\": (0, 1)}\n",
    "#     target_pot = (directionDict[act][0]+loc[0], directionDict[act][1]+loc[1])\n",
    "\n",
    "# #     判断目标点是否界内，不在界内值为None\n",
    "#     tar_x, tar_y = target_pot\n",
    "#     if tar_x < 0 or tar_x > rows or tar_y < 0 or tar_y > columns:\n",
    "#         tar_value == None\n",
    "#     else:\n",
    "#         tar_value = env_data[tar_x][tar_y]\n",
    "        \n",
    "# #     判断目标点对应的值\n",
    "#     #print(tar_value)\n",
    "#     if tar_value == 2 or tar_value == None:\n",
    "#         return False\n",
    "#     else:\n",
    "#         return True\n",
    "\n",
    "# 更正\n",
    "\n",
    "    x, y = loc\n",
    "    actionable_dict = {\n",
    "        'u': (x-1, y),\n",
    "        'd': (x+1, y),\n",
    "        'l': (x, y-1),\n",
    "        'r': (x, y+1)\n",
    "    }\n",
    "    if act in actionable_dict.keys():\n",
    "        x, y = actionable_dict[act]\n",
    "    else:\n",
    "        raise Exception(\"Action is Error!\")\n",
    "    return (0 <= y <= columns - 1) and (0 <= x <= rows - 1) and (env_data[x][y] != 2)\n",
    "\n",
    "        \n",
    "# 检测\n",
    "robot_current_loc = loc_map[\"start\"]\n",
    "print(\"当前位置在：\",robot_current_loc)\n",
    "print(\"是否可以上移动：\",is_move_valid_special(robot_current_loc, \"u\"))\n",
    "print(\"是否可以下移动：\",is_move_valid_special(robot_current_loc, \"d\"))\n",
    "print(\"是否可以左移动：\",is_move_valid_special(robot_current_loc, \"l\"))\n",
    "print(\"是否可以右移动：\",is_move_valid_special(robot_current_loc, \"r\"))"
   ]
  },
  {
   "cell_type": "code",
   "execution_count": 15,
   "metadata": {},
   "outputs": [
    {
     "name": "stderr",
     "output_type": "stream",
     "text": [
      ".\n",
      "----------------------------------------------------------------------\n",
      "Ran 1 test in 0.001s\n",
      "\n",
      "OK\n"
     ]
    }
   ],
   "source": [
    "%run -i -e test.py RobotControllortTestCase.test_is_move_valid_special"
   ]
  },
  {
   "cell_type": "markdown",
   "metadata": {},
   "source": [
    "---\n",
    "**任务5：**在下方代码中，重新实现一个名为 `is_move_valid` 的函数，它有三个输入，分别为模拟环境的数据 `env_data`、机器人所在的位置坐标 `loc`、以及即将执行的动作 `act`。它的返回值与此前一样，是一个布尔值，表明小车在给定的虚拟环境中的 `loc` 位置下，是否可以执行动作 `act`。"
   ]
  },
  {
   "cell_type": "code",
   "execution_count": 16,
   "metadata": {
    "collapsed": true
   },
   "outputs": [],
   "source": [
    "def is_move_valid(env_data, loc, act):\n",
    "    \"\"\"\n",
    "    Judge wether the robot can take action act\n",
    "    at location loc.\n",
    "    \n",
    "    Keyword arguments:\n",
    "    env -- list, the environment data\n",
    "    loc -- tuple, robots current location\n",
    "    act -- string, robots meant action\n",
    "    \"\"\"\n",
    "#     #TODO 9\n",
    "# #     取得边界\n",
    "#     rows = len(env_data) - 1\n",
    "#     columns = len(env_data[0]) - 1\n",
    "    \n",
    "# #     初始值为空\n",
    "#     tar_value = None\n",
    "\n",
    "# #     匹配act索引，确定移动方向\n",
    "#     directionDict = {\"u\": (-1, 0), \"d\": (1, 0), \"l\": (0, -1), \"r\": (0, 1)}\n",
    "#     target_pot = (directionDict[act][0]+loc[0], directionDict[act][1]+loc[1])\n",
    "\n",
    "# #     判断目标点是否界内，不在界内值为None\n",
    "#     tar_x, tar_y = target_pot\n",
    "#     if tar_x < 0 or tar_x > rows or tar_y < 0 or tar_y > columns:\n",
    "#         tar_value == None\n",
    "#     else:\n",
    "#         tar_value = env_data[tar_x][tar_y]\n",
    "        \n",
    "# #     判断目标点对应的值\n",
    "#     #print(tar_value)\n",
    "#     if tar_value == 2 or tar_value == None:\n",
    "#         return False\n",
    "#     else:\n",
    "#         return True\n",
    "\n",
    "# 更正\n",
    "\n",
    "    x, y = loc\n",
    "    actionable_dict = {\n",
    "        'u': (x-1, y),\n",
    "        'd': (x+1, y),\n",
    "        'l': (x, y-1),\n",
    "        'r': (x, y+1)\n",
    "    }\n",
    "    if act in actionable_dict.keys():\n",
    "        x, y = actionable_dict[act]\n",
    "    else:\n",
    "        raise Exception(\"Action is Error!\")\n",
    "    return (0 <= y <= columns - 1) and (0 <= x <= rows - 1) and (env_data[x][y] != 2)"
   ]
  },
  {
   "cell_type": "code",
   "execution_count": 17,
   "metadata": {},
   "outputs": [
    {
     "name": "stderr",
     "output_type": "stream",
     "text": [
      ".\n",
      "----------------------------------------------------------------------\n",
      "Ran 1 test in 0.001s\n",
      "\n",
      "OK\n"
     ]
    }
   ],
   "source": [
    "%run -i -e test.py RobotControllortTestCase.test_is_move_valid"
   ]
  },
  {
   "cell_type": "markdown",
   "metadata": {},
   "source": [
    "---\n",
    "\n",
    "**任务6：**请回答：\n",
    "  1. 在任务4及任务5中的实现的两个函数中，`env_data` 这个变量有什么不同？\n",
    "  2. 调用``is_move_valid``函数，参数为``env_data_``、``loc_``、``act_``，如果在函数内修改``env_data``是否会改变``env_data_``的值？为什么？\n",
    "  \n",
    "提示：_可以尝试从变量作用域的角度回答该问题1。_\n",
    "\n",
    "\n",
    "提示：_可以尝试从可变类型变量和不可变类型变量的角度回答该问题2。_\n",
    "\n"
   ]
  },
  {
   "cell_type": "markdown",
   "metadata": {},
   "source": [
    "**回答：** （请在这里填写你的回答）\n",
    "- env_data 这个变量在任务4中是全局变量，Python 不允许函数( 直接 )修改不在函数作用域内的变量，但这个原则仅适用于整数和字符串。\n",
    "- 而在任务5中 env_data 是局部变量，是作为函数的参数传进来的，所以可以访问和修改。\n",
    "- 从可变类型变量和不可变类型变量的角度，env_data是一个List,它是可变类型变量，所以可以修改。\n",
    "\n",
    "**更正：**\n",
    "- Python的每个对象都分为可变和不可变，主要的核心类型中，数字、字符串、元组是不可变的，列表、字典是可变的。\n",
    "\n",
    "- 因为可变对象作为参数是传引用到函数，将env_data指向了env_data_的地址，所以在函数中对形参的修改会改变实参的值。\n",
    "\n",
    "- 而对不可变对象来说作为参数是传值到函数，例如⬇️的例子，在调用myfunc(b)时，其实是将b的值“复制”了一份给a，所以在函数中修改了a的值，并不会影响b的值。"
   ]
  },
  {
   "cell_type": "code",
   "execution_count": 18,
   "metadata": {},
   "outputs": [
    {
     "name": "stdout",
     "output_type": "stream",
     "text": [
      "12\n",
      "2\n"
     ]
    }
   ],
   "source": [
    "def myfunc(a):\n",
    "    a += b\n",
    "#     b = 0 这里b可以读不能写，所以最好不这么做，如果要使用b,加global声明\n",
    "    print(a)\n",
    "\n",
    "b = 2\n",
    "myfunc(10)\n",
    "print(b)"
   ]
  },
  {
   "cell_type": "markdown",
   "metadata": {},
   "source": [
    "---\n",
    "\n",
    "## 2.2 机器人可行动作\n",
    "\n",
    "---\n",
    "\n",
    "**任务7：**编写一个名为 `valid_actions` 的函数。它有两个输入，分别为虚拟环境的数据 `env_data`，以及机器人所在的位置 `loc`，输出是一个列表，表明机器人在这个位置所有的可行动作。\n",
    "\n",
    "提示：*可以尝试调用上方定义的`is_move_valid`函数。*\n"
   ]
  },
  {
   "cell_type": "code",
   "execution_count": 19,
   "metadata": {},
   "outputs": [
    {
     "name": "stdout",
     "output_type": "stream",
     "text": [
      "可能的动作： ['d']\n"
     ]
    }
   ],
   "source": [
    "## TODO 10 从头定义、实现你的函数\n",
    "def valid_actions(env_data, loc):  \n",
    "    possible_actions = [\"u\", \"d\", \"l\", \"r\"]\n",
    "    valid_actions_list = []\n",
    "    \n",
    "    for i in possible_actions:\n",
    "        if is_move_valid(env_data, loc, i):\n",
    "            valid_actions_list.append(i)\n",
    "    return valid_actions_list\n",
    "        \n",
    "robot_current_loc = loc_map[\"start\"]\n",
    "print(\"可能的动作：\", valid_actions(env_data, robot_current_loc))"
   ]
  },
  {
   "cell_type": "code",
   "execution_count": 20,
   "metadata": {},
   "outputs": [
    {
     "name": "stderr",
     "output_type": "stream",
     "text": [
      ".\n",
      "----------------------------------------------------------------------\n",
      "Ran 1 test in 0.001s\n",
      "\n",
      "OK\n"
     ]
    }
   ],
   "source": [
    "%run -i -e test.py RobotControllortTestCase.test_valid_actions"
   ]
  },
  {
   "cell_type": "markdown",
   "metadata": {},
   "source": [
    "---\n",
    "\n",
    "## 2.3 移动机器人\n",
    "\n",
    "当机器人收到一个动作的时候，你机器人的位置应发生相应的变化。\n",
    "\n",
    "**任务8：**编写一个名为 `move_robot` 的函数，它有两个输入，分别为机器人当前所在的位置 `loc` 和即将执行的动作 `act`。接着会返回机器人执行动作之后的新位置 `new_loc`。"
   ]
  },
  {
   "cell_type": "code",
   "execution_count": 21,
   "metadata": {
    "collapsed": true
   },
   "outputs": [],
   "source": [
    "##TODO 11 从头定义、实现你的函数\n",
    "def move_robot(loc, act):\n",
    "    \n",
    "    valid_actions_list = [\"u\", \"d\", \"l\", \"r\"]\n",
    "    directionDict = {\"u\": (-1, 0), \"d\": (1, 0), \"l\": (0, -1), \"r\": (0, 1)}\n",
    "    \n",
    "    if act in valid_actions_list:\n",
    "        new_loc = (directionDict[act][0]+loc[0], directionDict[act][1]+loc[1])\n",
    "        return new_loc\n",
    "    else:\n",
    "        return False\n",
    "    "
   ]
  },
  {
   "cell_type": "code",
   "execution_count": 22,
   "metadata": {},
   "outputs": [
    {
     "name": "stderr",
     "output_type": "stream",
     "text": [
      ".\n",
      "----------------------------------------------------------------------\n",
      "Ran 1 test in 0.002s\n",
      "\n",
      "OK\n"
     ]
    }
   ],
   "source": [
    "%run -i -e test.py RobotControllortTestCase.test_move_robot"
   ]
  },
  {
   "cell_type": "markdown",
   "metadata": {},
   "source": [
    "---\n",
    "\n",
    "## 2.4 随机移动机器人\n",
    "\n",
    "接着，我们尝试在虚拟环境中随机移动机器人，看看会有什么效果。\n",
    "\n",
    "**任务9：**编写一个名为 `random_choose_actions` 的函数，它有两个输入，分别为虚拟环境的数据 `env_data`，以及机器人所在的位置 `loc`。机器人会执行一个300次的循环，每次循环，他会执行以下任务：\n",
    "\n",
    "1. 利用上方定义的 `valid_actions` 函数，找出当前位置下，机器人可行的动作；\n",
    "2. 利用 `random` 库中的 `choice` 函数，从机器人可行的动作中，随机挑选出一个动作；\n",
    "3. 接着根据这个动作，利用上方定义的 `move_robot` 函数，来移动机器人，并更新机器人的位置；\n",
    "4. 当机器人走到终点时，输出“在第n个回合找到宝藏！”。\n",
    "\n",
    "提示：如果机器人无法在300个回合内找到宝藏的话，试试看增大这个数字，也许会有不错的效果 :P"
   ]
  },
  {
   "cell_type": "code",
   "execution_count": 23,
   "metadata": {
    "collapsed": true
   },
   "outputs": [],
   "source": [
    "##TODO 12 从头实现你的函数\n",
    "import random\n",
    "\n",
    "def random_choose_actions(env_data, loc):\n",
    "    n = 0\n",
    "    for i in range(300):\n",
    "        n += 1\n",
    "        va = random.choice(valid_actions(env_data, loc))\n",
    "        loc = move_robot(loc,va)\n",
    "        if(env_data[loc[0]][loc[1]] == 3):\n",
    "            return \"在第{}个回合找到宝藏\".format(n)\n",
    "        \n",
    "    return \"300次都没找到！\""
   ]
  },
  {
   "cell_type": "code",
   "execution_count": 24,
   "metadata": {},
   "outputs": [
    {
     "data": {
      "text/plain": [
       "'在第104个回合找到宝藏'"
      ]
     },
     "execution_count": 24,
     "metadata": {},
     "output_type": "execute_result"
    }
   ],
   "source": [
    "# 运行\n",
    "random_choose_actions(env_data, robot_current_loc)"
   ]
  },
  {
   "cell_type": "markdown",
   "metadata": {},
   "source": [
    "\n",
    "---\n",
    "\n",
    "---\n",
    "\n",
    "## （可选）第三节 控制机器人走到终点\n",
    "\n",
    "## 3.1 控制机器人走到终点\n",
    "\n",
    "在这里，你将综合上述的知识，编码控制机器人走到终点。这个任务对刚刚入门的你来说可能有些挑战，所以它是一个选做题。\n",
    "\n",
    "**任务10**：尝试实现一个算法，能够对给定的模拟环境，输出机器人的行动策略，使之能够走到终点。\n",
    "\n",
    "提示：_你可以尝试参考：_\n",
    "* 深度/广度优先算法。\n",
    "    以及以下参考资料：\n",
    "    1. https://blog.csdn.net/raphealguo/article/details/7523411 \n",
    "    2. https://www.cnblogs.com/yupeng/p/3414736.html \n",
    "* A星算法。\n",
    "    以及以下参考资料：\n",
    "    1. https://baike.baidu.com/item/A%2A算法 \n",
    "    2. https://blog.csdn.net/hitwhylz/article/details/23089415"
   ]
  },
  {
   "cell_type": "code",
   "execution_count": 25,
   "metadata": {},
   "outputs": [
    {
     "ename": "IndentationError",
     "evalue": "unexpected indent (<ipython-input-25-a552dc48a4e1>, line 72)",
     "output_type": "error",
     "traceback": [
      "\u001b[1;36m  File \u001b[1;32m\"<ipython-input-25-a552dc48a4e1>\"\u001b[1;36m, line \u001b[1;32m72\u001b[0m\n\u001b[1;33m    '''\u001b[0m\n\u001b[1;37m    ^\u001b[0m\n\u001b[1;31mIndentationError\u001b[0m\u001b[1;31m:\u001b[0m unexpected indent\n"
     ]
    }
   ],
   "source": [
    "##TODO 13 实现你的算法\n",
    "\n",
    "''''''\n",
    "\n",
    "# 所有能走的点，（环境，当前点，上一点）\n",
    "def ablePots(env_data, loc, prev):  \n",
    "    possible_actions = [\"u\", \"d\", \"l\", \"r\"]\n",
    "    ablePots_list = []\n",
    "\n",
    "    for i in possible_actions:\n",
    "        if  is_move_valid(env_data, loc, i):\n",
    "            newloc = move_robot(loc, i)\n",
    "            if newloc != prev: # 排除上一个点\n",
    "                ablePots_list.append(newloc)\n",
    "                \n",
    "    if len(ablePots_list) > 0:\n",
    "        return ablePots_list\n",
    "    return None\n",
    "\n",
    "'''\n",
    "def shortest_path_actions(env_data, loc):\n",
    "    \n",
    "#     先找到loc周围所有能走的点（输入env，loc，输出list[点1，点2，]\n",
    "#     在遍历list，\n",
    "#     找出每个点下一步所有能走的点，并排除上一个点和同组的其他点。\n",
    "#     如果能找到下一步能走的点，那么记录当前这个点\n",
    "#     继续循环找出每个点下一步所有能走的点...\n",
    "#     如果下一个点的列表集合为空，代表前面没路，于是判断当前位置是否终点\n",
    "#     如果不是终点，-------------------------------------------------\n",
    "#     直到当前位置等于终点位置为止。\n",
    "#     返回正确的路径列表\n",
    "\n",
    "    points = []\n",
    "    points.append(loc)\n",
    "    prevpoint = None\n",
    "    while True:        \n",
    "        if loc == loc_map[\"destination\"]: #loc_map[\"destination\"] == (0,0):\n",
    "            break\n",
    "        else:\n",
    "            nextpoints = ablePots(env_data, loc, prevpoint) # 获取所有能走的点\n",
    "            \n",
    "            for nextpoint in nextpoints: # 遍历下一步点的集合，前移一格\n",
    "                prevpoint = loc # 保存当前点为上一点\n",
    "                loc = nextpoint # 前移一个点\n",
    "                points.append(loc) # 保存\n",
    "    \n",
    "\n",
    "\n",
    "            \n",
    "    \n",
    "    \n",
    "    \n",
    "    correctpath = dict()\n",
    "    for i in range(len(points)):\n",
    "        if i == 0:\n",
    "            correctpath[\"出发点：\".format(i)] = points[i]\n",
    "        elif i == len(points)-1:\n",
    "            correctpath[\"终 点：\".format(i)] = points[i]\n",
    "        else:\n",
    "            correctpath[\"第{}步：\".format(i)] = points[i]\n",
    "\n",
    "    for k,v in correctpath.items():\n",
    "        print(k,v)\n",
    "        \n",
    "        \n",
    "'''\n",
    "[[3, 2, 2, 2, 2, 2, 2, 2, 1],\n",
    " [0, 0, 2, 2, 2, 2, 2, 0, 0],\n",
    " [2, 0, 0, 2, 2, 2, 0, 0, 2],\n",
    " [2, 2, 0, 0, 2, 0, 0, 2, 2],\n",
    " [2, 2, 2, 0, 0, 0, 2, 2, 2]]\n",
    " '''    \n",
    "    \n",
    "    \n",
    "shortest_path_actions(env_data, robot_current_loc)'''"
   ]
  },
  {
   "cell_type": "code",
   "execution_count": null,
   "metadata": {
    "collapsed": true
   },
   "outputs": [],
   "source": [
    "# 新的代码\n",
    "'''\n",
    "[[3, 2, 2, 2, 2, 2, 2, 2, 1],\n",
    " [0, 0, 2, 2, 2, 2, 2, 0, 0],\n",
    " [2, 0, 0, 2, 2, 2, 0, 0, 2],\n",
    " [2, 2, 0, 0, 2, 0, 0, 2, 2],\n",
    " [2, 2, 2, 0, 0, 0, 2, 2, 2]]\n",
    " \n",
    " A*算法的流程：\n",
    "\n",
    "把起点加入 open list 。\n",
    "重复如下过程：\n",
    "遍历 open list ，查找 F 值最小的节点，把它作为当前要处理的节点。\n",
    "把这个节点移到 close list 。\n",
    "操作当前方格的 8 个相邻方格的每一个方格：\n",
    "如果它是不可抵达的或者它在 close list 中，忽略它。否则，做如下操作。\n",
    "如果它不在 open list 中，把它加入 open list ，并且把当前方格设置为它的父亲，记录该方格的 F ， G 和 H 值。\n",
    "\n",
    "如果它已经在 open list 中，检查这条路径 ( 即经由当前方格到达它那里 ) 是否更好，用 G 值作参考。\n",
    "更小的 G 值表示这是更好的路径。\n",
    "如果是这样，把它的父亲设置为当前方格，并重新计算它的 G 和 F 值。\n",
    "如果你的 open list 是按 F 值排序的话，改变后你可能需要重新排序。\n",
    "\n",
    "停止，如果满足条件：\n",
    "把终点加入到了 open list 中，此时路径已经找到了;\n",
    "查找终点失败，open list 是空的，此时没有路径。\n",
    "保存路径。从终点开始，每个方格沿着父节点移动直至起点，这就是你的路径。\n",
    "\n",
    " '''\n",
    "\n",
    "# 还在继续....\n",
    "\n",
    "\n"
   ]
  },
  {
   "cell_type": "markdown",
   "metadata": {},
   "source": [
    "## 问题：\n",
    "     cur_loc =  min(open_list,f)\n",
    "     遍历 open list ，查找 F 值最小的节点，把它作为当前要处理的节点。\n",
    "\n",
    "- 这句获取openlist中f最小的点\n",
    "- 这个f=g+h，这三个值是每个点都有的，应该是什么结构？\n",
    "- 那么是需要定义一个类吗？或者是一个dict？ 还是f、g、h各自只用一个临时变量？\n",
    "- 如果用类就需要根据对象F属性排序，这个代码应该怎么编写？\n",
    "- 如果用临时变量F，那怎么比对出最小的那个点？\n",
    "- 如果用dict，那key和velue分别应该怎么定义？\n",
    "\n",
    "- 就是这个点应该以什么结构存在？"
   ]
  },
  {
   "cell_type": "markdown",
   "metadata": {},
   "source": [
    "> 注意: 当你写完了所有的代码，并且回答了所有的问题。你就可以把你的 iPython Notebook 导出成 HTML 文件。你可以在菜单栏，这样导出**File -> Download as -> HTML (.html)**把这个 HTML 和这个 iPython notebook 一起做为你的作业提交。"
   ]
  },
  {
   "cell_type": "code",
   "execution_count": 27,
   "metadata": {},
   "outputs": [
    {
     "data": {
      "text/plain": [
       "[[0, 0, 0, 0, 0, 0, 0, 0, 0],\n",
       " [0, 0, 0, 0, 2, 0, 0, 0, 0],\n",
       " [0, 0, 1, 0, 2, 0, 3, 0, 0],\n",
       " [0, 0, 0, 0, 2, 0, 0, 0, 0],\n",
       " [0, 0, 0, 0, 0, 0, 0, 0, 0]]"
      ]
     },
     "execution_count": 27,
     "metadata": {},
     "output_type": "execute_result"
    }
   ],
   "source": [
    "# loclist = sorted(alist, key=itemgetter(0))\n",
    "# open_list[next_loc] = [g + h, g, h, cur_loc]\n",
    "\n",
    "def get_loc(env, value):\n",
    "    for i in env:\n",
    "        if value in i:\n",
    "            return (env.index(i), i.index(value))\n",
    "    return None\n",
    "\n",
    "env_data2 = [\n",
    "    [0,0,0,0,0,0,0,0,0],\n",
    "    [0,0,0,0,2,0,0,0,0],\n",
    "    [0,0,1,0,2,0,3,0,0],\n",
    "    [0,0,0,0,2,0,0,0,0],\n",
    "    [0,0,0,0,0,0,0,0,0]\n",
    "]\n",
    "\n",
    "loc_map = {\n",
    "    \"start\": get_loc(env_data2, start_value), \n",
    "    \"end\": get_loc(env_data2, destination_value) \n",
    "}\n",
    "env_data2"
   ]
  },
  {
   "cell_type": "code",
   "execution_count": null,
   "metadata": {
    "collapsed": true
   },
   "outputs": [],
   "source": [
    "'''\n",
    "from operator import itemgetter\n",
    "\n",
    "start_value = 1\n",
    "destination_value = 3\n",
    "\n",
    "rows = len(env_data2) \n",
    "columns = len(env_data2[0]) \n",
    "\n",
    "loc_map = {\n",
    "    \"start\": get_loc(env_data2, start_value), \n",
    "    \"end\": get_loc(env_data2, destination_value) \n",
    "}\n",
    "\n",
    "start_loc = loc_map[\"start\"]\n",
    "end_loc = loc_map[\"end\"]\n",
    "\n",
    "def get_loc(env, value):\n",
    "    for i in env:\n",
    "        if value in i:\n",
    "            return (env.index(i), i.index(value))\n",
    "    return None\n",
    "\n",
    "\n",
    "\n",
    "start_loc = loc_map[\"start\"]\n",
    "end_loc = loc_map[\"end\"]\n",
    "\n",
    "def get_H(cur, end):\n",
    "    return abs(end[0] - cur[0]) + abs(end[1] - cur[1])\n",
    "def get_G(start, cur):\n",
    "    return abs(start[0] - cur[0]) + abs(start[1] - cur[1])\n",
    "\n",
    "def get_F(start, end, cur):\n",
    "    g = abs(start[0] - cur[0]) + abs(start[1] - cur[1])\n",
    "    h = abs(end[0] - cur[0]) + abs(end[1] - cur[1])\n",
    "    return g + h\n",
    "\n",
    "\n",
    "def is_move_valid(loc, act):\n",
    "    x, y = loc\n",
    "    actionable_dict = {'u': (x-1, y), 'd': (x+1, y), 'l': (x, y-1), 'r': (x, y+1)}\n",
    "    if act in actionable_dict.keys():\n",
    "        x, y = actionable_dict[act]\n",
    "    else:\n",
    "        raise Exception(\"Action is Error!\")\n",
    "    return (0 <= y <= columns - 1) and (0 <= x <= rows - 1) and (env_data2[x][y] != 2)\n",
    "\n",
    "def move_robot(loc, act):\n",
    "    valid_actions_list = [\"u\", \"d\", \"l\", \"r\"]\n",
    "    directionDict = {\"u\": (-1, 0), \"d\": (1, 0), \"l\": (0, -1), \"r\": (0, 1)}\n",
    "    \n",
    "    if act in valid_actions_list:\n",
    "        new_loc = (directionDict[act][0]+loc[0], directionDict[act][1]+loc[1])\n",
    "        return [new_loc,get_F(start_loc, end_loc, new_loc)]\n",
    "    else:\n",
    "        return False\n",
    "    \n",
    "\n",
    "startpoint = [start_loc, get_F(start_loc, end_loc, start_loc)]\n",
    "endpoint = [end_loc, get_F(start_loc, end_loc, end_loc)]\n",
    "\n",
    "open_list = [startpoint]\n",
    "close_list = []\n",
    "\n",
    "while endpoint not in open_list:\n",
    "    cur_loc = sorted(open_list, key=itemgetter(1))[0]\n",
    "    \n",
    "    for act in [\"u\",\"d\",\"l\",\"r\"]:\n",
    "        if is_move_valid(cur_loc[0], act):\n",
    "            next_loc = move_robot(cur_loc[0], act)\n",
    "            if next_loc not in close_list:\n",
    "                \n",
    "                g = get_G(start_loc, next_loc[0])\n",
    "                if next_loc not in open_list:\n",
    "                    open_list.append(next_loc)\n",
    "                    \n",
    "                elif g < get_G(start_loc, open_list[0][0]):   \n",
    "                    open_list.append(next_loc)   \n",
    "                    \n",
    "                open_list = sorted(open_list, key=itemgetter(1))\n",
    "\n",
    "    close_list.append(cur_loc)\n",
    "    open_list.remove(cur_loc)\n",
    "\n",
    "'''"
   ]
  },
  {
   "cell_type": "code",
   "execution_count": 29,
   "metadata": {},
   "outputs": [
    {
     "name": "stdout",
     "output_type": "stream",
     "text": [
      "[9, 2, 6]\n"
     ]
    }
   ],
   "source": [
    "a = (1,1)\n",
    "b = (2,2)\n",
    "c = (3,3)\n",
    "d = {\n",
    "    a: [1,8,3],\n",
    "    b: [9,2,6],\n",
    "    c: [2,6,9]\n",
    "}\n",
    "print(d[b])"
   ]
  },
  {
   "cell_type": "code",
   "execution_count": 28,
   "metadata": {},
   "outputs": [
    {
     "name": "stdout",
     "output_type": "stream",
     "text": [
      "[(2, 2), (2, 3), (1, 3), (0, 3), (0, 4), (0, 5), (1, 5), (2, 5), (2, 6)]\n"
     ]
    }
   ],
   "source": [
    "# 你距离成功就差一点了，这里给你示例代码，希望对你所有帮助！继续加油哦~\n",
    "\n",
    "def h_value(start_loc, end_loc):\n",
    "    return abs(start_loc[0] - end_loc[0]) + abs(start_loc[1] - end_loc[1])\n",
    "\n",
    "\n",
    "def astar_pathfinding(env_data, start_loc, end_loc):\n",
    "    '''\n",
    "    在地图env_data中寻找从start_loc到destination_loc的可行路径\n",
    "    env_data：地图数据，2维列表数据格式\n",
    "    start_loc：起始位置，(x , y)元组数据格式\n",
    "    end_loc：目标位置，(x , y)元组数据格式\n",
    "    函数返回一个路径列表，列表的每个元素为代表地图位置的(x , y)元组数据\n",
    "    路径排序算法f = g + h，g值为从起点到指定节点的路径代价，h值为从指定节点到终点的估算路径代价\n",
    "    '''\n",
    "    final_path = []\n",
    "    open_list = {}\n",
    "    close_list = {}\n",
    "\n",
    "    #将起点放入open list中，并设置g值为0，设置父节点为自身，用字典复合数据结构[f,g,h,父节点]\n",
    "    start_to_end = h_value(start_loc, end_loc)\n",
    "    open_list[start_loc] = [start_to_end, 0, start_to_end, start_loc]\n",
    "\n",
    "    #如果已经在close list中或属于不可通过节点或超出边界，则直接忽略\n",
    "    #如果可通过则加入open list\n",
    "    while end_loc not in open_list:\n",
    "        #对open list中的数据进行排序，选择f值最小的一个节点，设为当前节点\n",
    "        cur_loc = sorted(open_list, key=open_list.__getitem__)[0]\n",
    "\n",
    "        #对当前节点上下左右4个节点进行计算分析\n",
    "        for act in [\"u\",\"d\",\"l\",\"r\"]:\n",
    "            if is_move_valid(env_data, cur_loc, act):  #如果节点超出边界或不可通过，则直接忽略\n",
    "                next_loc = move_robot(cur_loc, act)\n",
    "                if next_loc not in close_list:         #如果节点在close list中，则直接忽略\n",
    "                    g = open_list[cur_loc][1] + 1\n",
    "                    if next_loc not in open_list:      #如果节点不在open list中，则添加到open list中\n",
    "                        h = h_value(next_loc, end_loc)\n",
    "                        open_list[next_loc] = [g + h, g, h, cur_loc]\n",
    "                    elif g < open_list[next_loc][1]:   #如果节点在open list中，则比较g值大小\n",
    "                        open_list[next_loc] = [g + h, g, h, cur_loc]\n",
    "        close_list[cur_loc] = open_list[cur_loc]       #将当前节点添加到close list中\n",
    "        del open_list[cur_loc]                         #将当前节点从open list中删除\n",
    "\n",
    "    #print(open_list)\n",
    "    #print(close_list)\n",
    "    #从终点开始，依次通过父节点返回到起点\n",
    "    close_list[end_loc] = open_list[end_loc]\n",
    "    cur_loc = end_loc\n",
    "    final_path.append(cur_loc)\n",
    "    while start_loc not in final_path:\n",
    "        cur_loc = close_list[cur_loc][3]\n",
    "        final_path.append(cur_loc)\n",
    "\n",
    "    return final_path[::-1]\n",
    "\n",
    "final_path = astar_pathfinding(env_data2, loc_map[\"start\"], loc_map[\"end\"])\n",
    "print(final_path)"
   ]
  },
  {
   "cell_type": "code",
   "execution_count": null,
   "metadata": {
    "collapsed": true
   },
   "outputs": [],
   "source": []
  }
 ],
 "metadata": {
  "kernelspec": {
   "display_name": "Python 3",
   "language": "python",
   "name": "python3"
  },
  "language_info": {
   "codemirror_mode": {
    "name": "ipython",
    "version": 3
   },
   "file_extension": ".py",
   "mimetype": "text/x-python",
   "name": "python",
   "nbconvert_exporter": "python",
   "pygments_lexer": "ipython3",
   "version": "3.6.2"
  }
 },
 "nbformat": 4,
 "nbformat_minor": 2
}
